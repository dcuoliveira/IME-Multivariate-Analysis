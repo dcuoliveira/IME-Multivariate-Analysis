{
 "cells": [
  {
   "cell_type": "code",
   "execution_count": null,
   "id": "b86c64f1-ec25-4ead-96ac-eef771191dab",
   "metadata": {},
   "outputs": [],
   "source": []
  },
  {
   "cell_type": "markdown",
   "id": "2e59929a-9baf-4dec-a843-b56be9f17671",
   "metadata": {},
   "source": [
    "#### 1. Let $Y = (Y_1,...,Y_n)^{'}$, $Y_i \\in \\mathbb{R}^p$, $i=1,..,n$, be a random sample from $N(\\boldsymbol{\\mu}, \\boldsymbol{\\Sigma})$. Using simulation techniques to show (graphically) that:\n",
    "\n",
    "> a) $\\bar{Y} \\sim N(\\boldsymbol{\\mu}, \\frac{\\boldsymbol{\\Sigma}}{n})$, $\\bar{Y}  \\in \\mathbb{R}^p$\n",
    "\n",
    "> b) $nS \\sim W(n-1, \\Sigma)$, where $S=n^{-1}Y^{'}HY$ and $H=\\boldsymbol{I}-n^{-1}\\boldsymbol{1}\\boldsymbol{1}^{'}$\n",
    "\n",
    "> c) $d_{M,i}^2 = (Y_i - \\boldsymbol{\\mu})^{'}\\boldsymbol{\\Sigma}^{-1}(Y_i - \\boldsymbol{\\mu}) \\sim \\chi_{p}^{2}$\n",
    "\n",
    "> d) $d_{M}^2 = n(\\bar{Y} - \\boldsymbol{\\mu})^{'}S_{u}^{-1}(\\bar{Y} - \\boldsymbol{\\mu}) \\sim T_{(p,n)}^{2} = \\frac{(n-1)}{(n-p)}F_{(p,n-p)}$\n",
    "\n",
    "> e) $\\frac{a^{'}(nS)a}{a^{'}\\boldsymbol{\\Sigma}a} \\sim \\chi_{n-1}^2$, $a \\in \\mathbb{R}^p$"
   ]
  },
  {
   "cell_type": "code",
   "execution_count": null,
   "id": "622636d4-e94b-4410-b104-dd1101407dba",
   "metadata": {},
   "outputs": [],
   "source": []
  }
 ],
 "metadata": {
  "kernelspec": {
   "display_name": "R",
   "language": "R",
   "name": "ir"
  },
  "language_info": {
   "codemirror_mode": "r",
   "file_extension": ".r",
   "mimetype": "text/x-r-source",
   "name": "R",
   "pygments_lexer": "r",
   "version": "3.6.1"
  }
 },
 "nbformat": 4,
 "nbformat_minor": 5
}
