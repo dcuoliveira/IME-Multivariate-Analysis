{
 "cells": [
  {
   "cell_type": "code",
   "execution_count": null,
   "id": "crazy-parker",
   "metadata": {},
   "outputs": [],
   "source": []
  },
  {
   "cell_type": "markdown",
   "id": "gross-actor",
   "metadata": {},
   "source": [
    "Define the data matrix $Y$ as follows:\n",
    "\n",
    "$\n",
    "Y = \n",
    "\\begin{bmatrix}\n",
    "    Y_{11} & Y_{12} & \\dots  & Y_{1p} \\\\\n",
    "    Y_{21} & Y_{22} & \\dots  & Y_{2p} \\\\\n",
    "    \\vdots & \\vdots & \\ddots & \\vdots \\\\\n",
    "    Y_{n1} & Y_{n2} & \\dots  & Y_{np}\n",
    "\\end{bmatrix}\n",
    "$"
   ]
  },
  {
   "cell_type": "markdown",
   "id": "contrary-people",
   "metadata": {},
   "source": [
    "1. Cite examples of row and column statistics for the matrix $Y$"
   ]
  },
  {
   "cell_type": "code",
   "execution_count": null,
   "id": "homeless-delaware",
   "metadata": {},
   "outputs": [],
   "source": []
  },
  {
   "cell_type": "markdown",
   "id": "passing-official",
   "metadata": {},
   "source": [
    "2. Given $(Y_{nxp}, \\bar{Y}_{px1}, S_{pxp})$, show that \n",
    "\n",
    "> a) If $a \\in \\mathbb{R}^p \\Rightarrow (X_{nx1}=Ya, \\bar{X}=a^{'}\\bar{Y}, S_{x}=a^{'}Sa)$ \n",
    "\n",
    "> b) If $A \\in \\mathbb{R}^{qxp}, X_i=AY_i + b \\Rightarrow (X_{nxq}=YA^{'} + \\boldsymbol{1}b^{'}, \\bar{X}=\\bar{Y}A^{'} + b, S_{x}=ASA^{'})$ \n"
   ]
  },
  {
   "cell_type": "code",
   "execution_count": null,
   "id": "annual-murray",
   "metadata": {},
   "outputs": [],
   "source": []
  },
  {
   "cell_type": "markdown",
   "id": "assisted-infrared",
   "metadata": {},
   "source": [
    "3. Cite linear transformations of the rows of $Y$ that may be useful for data analysis"
   ]
  },
  {
   "cell_type": "code",
   "execution_count": null,
   "id": "built-brake",
   "metadata": {},
   "outputs": [],
   "source": []
  },
  {
   "cell_type": "markdown",
   "id": "rocky-imaging",
   "metadata": {},
   "source": [
    "4. Consider $Y$ and $Y_*$ as the original and standardized data matrix. What's the importance of the following quadratic forms:\n",
    "\n",
    "> a) $Y^{'}HY = (HY)^{'}(HY) = (YH)(HY)^{'}$\n",
    "\n",
    "> b) $Y_{*}^{'}Y_{*} = Y_{*}Y_{*}^{'}$"
   ]
  },
  {
   "cell_type": "code",
   "execution_count": null,
   "id": "muslim-albany",
   "metadata": {},
   "outputs": [],
   "source": []
  },
  {
   "cell_type": "code",
   "execution_count": null,
   "id": "positive-feelings",
   "metadata": {},
   "outputs": [],
   "source": []
  }
 ],
 "metadata": {
  "kernelspec": {
   "display_name": "R",
   "language": "R",
   "name": "ir"
  },
  "language_info": {
   "name": ""
  }
 },
 "nbformat": 4,
 "nbformat_minor": 5
}
