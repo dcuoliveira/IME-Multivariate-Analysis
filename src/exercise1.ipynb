{
 "cells": [
  {
   "cell_type": "code",
   "execution_count": null,
   "id": "thirty-outline",
   "metadata": {},
   "outputs": [],
   "source": []
  },
  {
   "cell_type": "markdown",
   "id": "greek-service",
   "metadata": {},
   "source": [
    "1. Generate samples from the following distribution\n",
    "\n",
    "$\n",
    "Y_i \\sim N(\\boldsymbol{\\mu}, \\boldsymbol{\\Sigma}), \\quad i=1,...,n\n",
    "$\n",
    "\n",
    "where\n",
    "\n",
    "$\n",
    "Y_i \\in \\mathbb{R}^p\n",
    "$\n"
   ]
  },
  {
   "cell_type": "code",
   "execution_count": null,
   "id": "communist-threshold",
   "metadata": {},
   "outputs": [],
   "source": []
  },
  {
   "cell_type": "markdown",
   "id": "sealed-export",
   "metadata": {},
   "source": [
    "2. Apply the Spectral Decomposition to the covariance matrix $\\boldsymbol{\\Sigma}$\n",
    "\n",
    "$\n",
    "\\boldsymbol{\\Sigma} = VDV\n",
    "$\n",
    "\n",
    "where $V$ is a $p$x$p$ matrix of column eigenvectors of $Y$ and $D$ is a $p$x$p$ diagonal matrix of the eigenvalues of $Y$."
   ]
  },
  {
   "cell_type": "code",
   "execution_count": null,
   "id": "another-coffee",
   "metadata": {},
   "outputs": [],
   "source": []
  },
  {
   "cell_type": "markdown",
   "id": "connected-wesley",
   "metadata": {},
   "source": [
    "3. Apply the Singular Value Decomposition to the data matrix $Y$\n",
    "\n",
    "$\n",
    "Y = UDV\n",
    "$\n",
    "\n",
    "where $U$ is a $n$x$n$ matrix of row eigenvectors of $Y$."
   ]
  },
  {
   "cell_type": "code",
   "execution_count": null,
   "id": "twelve-corpus",
   "metadata": {},
   "outputs": [],
   "source": []
  }
 ],
 "metadata": {
  "kernelspec": {
   "display_name": "R",
   "language": "R",
   "name": "ir"
  },
  "language_info": {
   "name": ""
  }
 },
 "nbformat": 4,
 "nbformat_minor": 5
}
