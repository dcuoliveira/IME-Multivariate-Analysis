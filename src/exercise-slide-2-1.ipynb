{
 "cells": [
  {
   "cell_type": "code",
   "execution_count": null,
   "id": "expressed-hundred",
   "metadata": {},
   "outputs": [],
   "source": []
  },
  {
   "cell_type": "markdown",
   "id": "alone-finnish",
   "metadata": {},
   "source": [
    "1. Compute de eigenvalues and eigenvectors of a generic $2$x$2$ matrix given by\n",
    "\n",
    "$\n",
    "S = \n",
    "\\begin{bmatrix}\n",
    "S_{11} & S_{12} \\\\\n",
    "S_{21} & S_{22}\n",
    "\\end{bmatrix}\n",
    "$"
   ]
  },
  {
   "cell_type": "code",
   "execution_count": null,
   "id": "exceptional-buying",
   "metadata": {},
   "outputs": [],
   "source": []
  }
 ],
 "metadata": {
  "kernelspec": {
   "display_name": "R",
   "language": "R",
   "name": "ir"
  },
  "language_info": {
   "name": ""
  }
 },
 "nbformat": 4,
 "nbformat_minor": 5
}
