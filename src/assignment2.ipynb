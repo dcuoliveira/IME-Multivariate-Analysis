{
 "cells": [
  {
   "cell_type": "markdown",
   "metadata": {},
   "source": [
    "# Alunos\n",
    "\n",
    "### Daniel Cunha Oliveira\n",
    "### Lucas Iria\n",
    "### Leandro do Nascimento Silva"
   ]
  },
  {
   "cell_type": "markdown",
   "metadata": {},
   "source": [
    "# Questão 1\n",
    "\n",
    "Considere os seguintes dados de um Experimento Completamente Aleatorizado que avaliou a expressão de três genes (E1, E2 e E3) em tecidos tumorais submetidos a quatro tratamentos definidos de acordo com o cruzamento dos níveis baixo (=0) e alto (=1) de dois medicamentos A e B, tais que: T1=A0B0, T2=A0B1, T3=A1B0 e T4=A1B1. O centroide dos dados são dados por:\n",
    "\n",
    "|Tratamento |  n    |E1    | E2 | E3  |\n",
    "|--|-------|------|----|-----|\n",
    "|T1| (n=10)| 1.62 |2.50| 3.60|\n",
    "|T2| (n=10)| 1.40 |2.43| 3.90|\n",
    "|T3| (n=10)| 1.80 |2.80| 4.30|\n",
    "|T4| (n=10)| 1.00 |2.00| 4.00|\n",
    "\n",
    "a matriz de covariânicia total:\n",
    "\\begin{bmatrix}\n",
    "   2.65 & 1.08 & 2.51\\\\\n",
    "   1.08 & 4.74 & 2.87\\\\\n",
    "   2.51 & 2.87 & 6.67\n",
    "\\end{bmatrix}\n",
    "\n",
    "\n",
    "## item A\n",
    "Calcule os correspondentes números de graus de liberdade e as Somas de Quadrados e Produtos Cruzados (SQPC) das fontes de variação A, B, A*B.\n",
    "\n",
    "#### Resolução\n",
    "\n",
    "Inicialmente começamos carregando na memória o vetor de médias e a matriz de covariancia"
   ]
  },
  {
   "cell_type": "code",
   "execution_count": 1,
   "metadata": {},
   "outputs": [],
   "source": [
    "import numpy as np\n",
    "from scipy.stats import chi2\n",
    "from scipy.stats import f"
   ]
  },
  {
   "cell_type": "code",
   "execution_count": 2,
   "metadata": {},
   "outputs": [],
   "source": [
    "mean_A0B0 = np.array([[1.62,2.50,3.60]]).T\n",
    "mean_A0B1 = np.array([[1.40,2.43,3.90]]).T\n",
    "mean_A1B0 = np.array([[1.80,2.80,4.30]]).T\n",
    "mean_A1B1 = np.array([[1.00,2.00,4.00]]).T\n",
    "\n",
    "Sigma = np.array([[2.65,1.08,2.51],\n",
    "                  [1.08,4.74,2.87],\n",
    "                  [2.51,2.87,6.67]])"
   ]
  },
  {
   "cell_type": "markdown",
   "metadata": {},
   "source": [
    "O nosso modelo é da forma\n",
    "\n",
    "$y_{jik} = \\mu_{jk} + e_{ijk} = \\mu + \\tau_j + \\beta_l + \\gamma_{jk} + e_{ijk} $\n",
    "\n",
    "A partir dos vetores fornecidos no enunciado vamo calcular os vetores da média do tratamento A, B, intereção e a média populacional"
   ]
  },
  {
   "cell_type": "code",
   "execution_count": 3,
   "metadata": {},
   "outputs": [],
   "source": [
    "mean_A = np.array(mean_A1B0+mean_A1B1)/2\n",
    "mean_B = np.array(mean_A0B1+mean_A1B1)/2\n",
    "mean_AxB = np.array(mean_A0B1+mean_A1B0)/2\n",
    "mean =(mean_A0B0 + mean_A0B1 + mean_A1B0 + mean_A1B1)/4"
   ]
  },
  {
   "cell_type": "markdown",
   "metadata": {},
   "source": [
    "Abaixo calculamos as matrizes de covariância intra grupos e a matriz de Residuos"
   ]
  },
  {
   "cell_type": "code",
   "execution_count": 4,
   "metadata": {},
   "outputs": [
    {
     "name": "stdout",
     "output_type": "stream",
     "text": [
      "[[ 0.121    0.0715  -0.44   ]\n",
      " [ 0.0715   0.04225 -0.26   ]\n",
      " [-0.44    -0.26     1.6    ]]\n"
     ]
    }
   ],
   "source": [
    "HF1 = 2* 20 * (mean_A-mean).dot((mean_A-mean).T)\n",
    "print(HF1)"
   ]
  },
  {
   "cell_type": "code",
   "execution_count": 5,
   "metadata": {},
   "outputs": [
    {
     "name": "stdout",
     "output_type": "stream",
     "text": [
      "[[ 2.601    2.2185  -0.     ]\n",
      " [ 2.2185   1.89225 -0.     ]\n",
      " [-0.      -0.       0.     ]]\n"
     ]
    }
   ],
   "source": [
    "HF2 = 2* 20 * (mean_B-mean).dot((mean_B-mean).T)\n",
    "print(HF2)"
   ]
  },
  {
   "cell_type": "code",
   "execution_count": 6,
   "metadata": {},
   "outputs": [
    {
     "name": "stdout",
     "output_type": "stream",
     "text": [
      "[[0.4205   0.52925  0.435   ]\n",
      " [0.52925  0.666125 0.5475  ]\n",
      " [0.435    0.5475   0.45    ]]\n"
     ]
    }
   ],
   "source": [
    "HInt = 20 * (mean_AxB-mean).dot((mean_AxB-mean).T)\n",
    "print(HInt)"
   ]
  },
  {
   "cell_type": "code",
   "execution_count": 7,
   "metadata": {},
   "outputs": [
    {
     "name": "stdout",
     "output_type": "stream",
     "text": [
      "[[-0.4925   -1.73925   2.515   ]\n",
      " [-1.73925   2.139375  2.5825  ]\n",
      " [ 2.515     2.5825    4.62    ]]\n"
     ]
    }
   ],
   "source": [
    "Hres = Sigma - HF1 - HF2 - HInt\n",
    "print (Hres)"
   ]
  },
  {
   "cell_type": "markdown",
   "metadata": {},
   "source": [
    "|Tratamento   |  Graus de liberdade    |Matriz de SSCP  |\n",
    "|-------------|------------------------|----------------|\n",
    "|Fator A      |  1  |\\begin{bmatrix}   2.65 & 1.08 & 2.51\\\\1.08 & 4.74 & 2.87\\\\ 2.51 & 2.87 & 6.67 \\end{bmatrix} | \n",
    "|Fator B      |  1  |\\begin{bmatrix}   2.65 & 1.08 & 2.51\\\\1.08 & 4.74 & 2.87\\\\ 2.51 & 2.87 & 6.67 \\end{bmatrix}| |Interação    |  1  |\\begin{bmatrix}   2.65 & 1.08 & 2.51\\\\1.08 & 4.74 & 2.87\\\\ 2.51 & 2.87 & 6.67 \\end{bmatrix}|\n",
    "||||\n",
    "|Residuos     | 76  |\\begin{bmatrix}   2.65 & 1.08 & 2.51\\\\1.08 & 4.74 & 2.87\\\\ 2.51 & 2.87 & 6.67 \\end{bmatrix}|\n",
    "||||\n",
    "|Total        | 79  |\\begin{bmatrix}   2.65 & 1.08 & 2.51\\\\1.08 & 4.74 & 2.87\\\\ 2.51 & 2.87 & 6.67 \\end{bmatrix}|"
   ]
  },
  {
   "cell_type": "markdown",
   "metadata": {},
   "source": [
    "## Item b\n",
    "Há indicação de diferenças significantes no padrão de expressão gênica dos diferentes\n",
    "tratamentos?\n",
    "Faça suposições necessárias (independência, homocedasticidade e Normalidade)e teste o efeito de interação entre os medicamentos A e B. No caso da não existência de interação teste os efeitos principais dos medicamentos. Interprete os resultados em termos das possíveis diferenças entre os centroides populacionais.\n",
    "\n",
    "#### Resolução \n",
    "Para medir a significancia das diferença entre as médias vamos proceder com o teste de wilk inicialmente para a testar a hipótese:\n",
    "$H_0: \\gamma_{jk} = 0$"
   ]
  },
  {
   "cell_type": "code",
   "execution_count": 8,
   "metadata": {},
   "outputs": [],
   "source": [
    " Lambda = np.linalg.det(Hres)/np.linalg.det(Hres + HInt)"
   ]
  },
  {
   "cell_type": "code",
   "execution_count": 9,
   "metadata": {},
   "outputs": [],
   "source": [
    "g =2\n",
    "b =2\n",
    "p =3\n",
    "n =20"
   ]
  },
  {
   "cell_type": "code",
   "execution_count": 10,
   "metadata": {},
   "outputs": [
    {
     "data": {
      "text/plain": [
       "False"
      ]
     },
     "execution_count": 10,
     "metadata": {},
     "output_type": "execute_result"
    }
   ],
   "source": [
    "mi1= (np.abs((g-1)*(b -1)-p) +1)\n",
    "mi2= (g*b*(n-1)-p+1)\n",
    "\n",
    "((1 - np.log(Lambda))/np.log(Lambda)) * (mi2/mi1) > chi2.ppf(q= 0.95, df= 3)"
   ]
  },
  {
   "cell_type": "markdown",
   "metadata": {},
   "source": [
    "Não rejeitamos a hipótese de hipótese nula, logo o modelo não tem interação. Agora vamos testar o efeito dos fatores "
   ]
  },
  {
   "cell_type": "code",
   "execution_count": 11,
   "metadata": {},
   "outputs": [],
   "source": [
    "Lambda_f1 = np.linalg.det(Hres)/np.linalg.det(Hres + HF1)"
   ]
  },
  {
   "cell_type": "code",
   "execution_count": 12,
   "metadata": {},
   "outputs": [
    {
     "data": {
      "text/plain": [
       "False"
      ]
     },
     "execution_count": 12,
     "metadata": {},
     "output_type": "execute_result"
    }
   ],
   "source": [
    "mi1= np.abs(b -1 -p) +1\n",
    "mi2= g*b*(n-1)-p+1\n",
    "\n",
    "((1 - Lambda_f1)/Lambda_f1) * (mi2/mi1)  > f.ppf(q= 0.95, dfn=mi1,dfd=mi2)"
   ]
  },
  {
   "cell_type": "code",
   "execution_count": 13,
   "metadata": {},
   "outputs": [
    {
     "data": {
      "text/plain": [
       "-10.603261220290216"
      ]
     },
     "execution_count": 13,
     "metadata": {},
     "output_type": "execute_result"
    }
   ],
   "source": [
    "Lambda_f2 = np.linalg.det(Hres)/np.linalg.det(Hres + HF2)\n",
    "\n",
    "Lambda_f2"
   ]
  },
  {
   "cell_type": "code",
   "execution_count": 14,
   "metadata": {},
   "outputs": [
    {
     "data": {
      "text/plain": [
       "False"
      ]
     },
     "execution_count": 14,
     "metadata": {},
     "output_type": "execute_result"
    }
   ],
   "source": [
    "mi1= np.abs(g -1 -p) +1\n",
    "mi2= g*b*(n-1)-p+1\n",
    "\n",
    "((1 - Lambda_f2)/Lambda_f2) * (mi2/mi1)  > f.ppf(q= 0.95, dfn=mi1,dfd=mi2)"
   ]
  },
  {
   "cell_type": "markdown",
   "metadata": {},
   "source": [
    "## Item C\n",
    "\n",
    "Obtenha também a tabela MANOVA para o fator Tratamento (em quatro níveis). \n",
    "Compare as duas abordagens, isto é, aquela considerando um único fator em quatro níveis e aquela sob a estrutura fatorial cruzada dos medicamentos (fatorial 2x2).\n",
    "\n",
    "Sabemos que as matrizes de soma de quadrados para o problema em questao sao dadas por\n",
    "\n",
    "$$\n",
    "SSP_{A} = \\sum_{l=1}^{g} bn(\\boldsymbol{\\bar{x}}_l - \\boldsymbol{\\bar{x}})(\\boldsymbol{\\bar{x}}_l - \\boldsymbol{\\bar{x}})^{'} = 20\\sum_{l=1}^{2} (\\boldsymbol{\\bar{x}}_l - \\boldsymbol{\\bar{x}})(\\boldsymbol{\\bar{x}}_l - \\boldsymbol{\\bar{x}})^{'} \n",
    "$$\n",
    "\n",
    "$$\n",
    "SSP_{B} = \\sum_{k=1}^{b} gn(\\boldsymbol{\\bar{x}}_k - \\boldsymbol{\\bar{x}})(\\boldsymbol{\\bar{x}}_k - \\boldsymbol{\\bar{x}})^{'} = 20\\sum_{k=1}^{2} (\\boldsymbol{\\bar{x}}_k - \\boldsymbol{\\bar{x}})(\\boldsymbol{\\bar{x}}_k - \\boldsymbol{\\bar{x}})^{'} \n",
    "$$\n",
    "\n",
    "$$\n",
    "SSP_{AxB} = \\sum_{l=1}^{g}\\sum_{k=1}^{b} n(\\boldsymbol{\\bar{x}}_{lk} - \\boldsymbol{\\bar{x}}_{l} - \\boldsymbol{\\bar{x}}_{k} - \\boldsymbol{\\bar{x}})(\\boldsymbol{\\bar{x}}_{lk} - \\boldsymbol{\\bar{x}}_{l} - \\boldsymbol{\\bar{x}}_{k} - \\boldsymbol{\\bar{x}})^{'} = 10\\sum_{l=1}^{2}\\sum_{k=1}^{2} (\\boldsymbol{\\bar{x}}_{lk} - \\boldsymbol{\\bar{x}}_{l} - \\boldsymbol{\\bar{x}}_{k} - \\boldsymbol{\\bar{x}})(\\boldsymbol{\\bar{x}}_{lk} - \\boldsymbol{\\bar{x}}_{l} - \\boldsymbol{\\bar{x}}_{k} - \\boldsymbol{\\bar{x}})^{'} \n",
    "$$\n",
    "\n",
    "$$\n",
    "SSP_{res} = \\sum_{l=1}^{g}\\sum_{k=1}^{b}\\sum_{i=1}^{n} (\\boldsymbol{{x}}_{lki} - \\boldsymbol{\\bar{x}}_{lk})(\\boldsymbol{{x}}_{lki} - \\boldsymbol{\\bar{x}}_{lk})^{'} =  10\\sum_{l=1}^{2}\\sum_{k=1}^{2} (\\boldsymbol{{x}}_{lk} - \\boldsymbol{\\bar{x}}_{lk})(\\boldsymbol{{x}}_{lk} - \\boldsymbol{\\bar{x}}_{lk})^{'}\n",
    "$$\n",
    "\n",
    "$$\n",
    "SSP_{tot} = \\sum_{l=1}^{g}\\sum_{k=1}^{b}\\sum_{i=1}^{n} (\\boldsymbol{{x}}_{lki} - \\boldsymbol{\\bar{x}})(\\boldsymbol{{x}}_{lki} - \\boldsymbol{\\bar{x}})^{'} = 10\\sum_{l=1}^{2}\\sum_{k=1}^{2}(\\boldsymbol{{x}}_{lk} - \\boldsymbol{\\bar{x}})(\\boldsymbol{{x}}_{lk} - \\boldsymbol{\\bar{x}})^{'}\n",
    "$$\n"
   ]
  },
  {
   "cell_type": "code",
   "execution_count": 16,
   "metadata": {},
   "outputs": [],
   "source": [
    "mean_A1 = (mean_A1B0+mean_A1B1)/2\n",
    "mean_A0 = (mean_A0B0+mean_A0B1)/2\n",
    "\n",
    "mean_B1 = (mean_A0B1+mean_A1B1)/2\n",
    "mean_B0 = (mean_A0B0+mean_A1B0)/2"
   ]
  },
  {
   "cell_type": "code",
   "execution_count": 21,
   "metadata": {},
   "outputs": [],
   "source": [
    "## soma dos quadrados e produtos cruzados\n",
    "SSPf1 = 2 * 20 * ((mean_A1 - mean).dot((mean_A1 - mean).T) + (mean_A0 - mean).dot((mean_A0 - mean).T))\n",
    "SSPf2 = 2 * 20 * ((mean_B1 - mean).dot((mean_B1 - mean).T) + (mean_B0 - mean).dot((mean_B0 - mean).T))\n",
    "SSPint = 10 * ((mean_A0B1- mean_A0 - mean_B1 + mean).dot((mean_A0B1- mean_A0 - mean_B1 + mean).T) + (mean_A1B0 - mean_A1 - mean_B0 + mean).dot((mean_A1B0 - mean_A1 - mean_B0 + mean).T))\n",
    "SSPres = Sigma - SSPf1 - SSPf2 - SSPint\n",
    "SSPTotal = Sigma"
   ]
  },
  {
   "cell_type": "code",
   "execution_count": 22,
   "metadata": {},
   "outputs": [],
   "source": [
    "SSPtrat = 10 * ((mean_A0B0 - mean).dot((mean_A0B0 - mean).T) +\n",
    "                (mean_A0B1 - mean).dot((mean_A0B1 - mean).T) +\n",
    "                (mean_A1B0 - mean).dot((mean_A1B0 - mean).T) +\n",
    "                (mean_A1B1 - mean).dot((mean_A1B1 - mean).T))\n",
    "SSPRes = SSPTotal- SSPtrat"
   ]
  },
  {
   "cell_type": "code",
   "execution_count": 23,
   "metadata": {},
   "outputs": [
    {
     "data": {
      "text/plain": [
       "array([[3.563  , 3.3485 , 0.43   ],\n",
       "       [3.3485 , 3.26675, 0.835  ],\n",
       "       [0.43   , 0.835  , 2.5    ]])"
      ]
     },
     "execution_count": 23,
     "metadata": {},
     "output_type": "execute_result"
    }
   ],
   "source": [
    "SSPtrat"
   ]
  },
  {
   "cell_type": "code",
   "execution_count": 24,
   "metadata": {},
   "outputs": [
    {
     "data": {
      "text/plain": [
       "array([[-0.913  , -2.2685 ,  2.08   ],\n",
       "       [-2.2685 ,  1.47325,  2.035  ],\n",
       "       [ 2.08   ,  2.035  ,  4.17   ]])"
      ]
     },
     "execution_count": 24,
     "metadata": {},
     "output_type": "execute_result"
    }
   ],
   "source": [
    "SSPRes"
   ]
  },
  {
   "cell_type": "markdown",
   "metadata": {},
   "source": [
    "# Questão 2\n",
    "Considere o modelo de MANOVA de um delineamento experimental completamente aleatorizado com um fator em G níveis.\n",
    "\n",
    "## Item A\n",
    "Como podem ser obtidas (apresente um estimador) as matrizes de Soma de Quadrados e Produtos Cruzados Entre e Dentro de grupos, SSb e SSw, respectivamente? Essas matrizes aleatórias seguem qual distribuição?\n",
    "\n",
    "#### Resolução\n",
    "O estimador para SSb é dado por\n",
    "\\begin{equation}\n",
    "\\text{SSb} = \\sum_{g = 1} ^G n_g (\\bar x_g - \\bar x )(\\bar x_g - \\bar x)^T \\sim \\chi^2(G-1)\n",
    "\\end{equation}\n",
    "e para SSw temos:\n",
    "\\begin{equation}\n",
    "\\text{SSw} = \\sum_{g = 1} ^G \\sum_{j=1}^{n_g}(\\bar x_{jg} - \\bar x_g ) \\left(\\bar x_{jg} - \\bar x_g\\right)^T \\sim \\chi^2(\\sum_{g = 1}^G n_g - G) \n",
    "\\end{equation}\n",
    "\n",
    "## Item B\n",
    " Qual é o papel da decomposição espectral de $SSw^{-1}SSb$ na discriminação entre os grupos em um modelo MANOVA?\n",
    "#### Resolução\n",
    " A decomposição espectral de $SSw^{-1}SSb$ tem dois papéis, seus autovalores são utilizados no cálculo das estatísticas Pilai, Wilks, Roy e Hotelling-Lawley. E os autovetores correspondentes a cada autovetor nos dão a contribuição das variáveis para a tabela de ANOVA.\n",
    " \n",
    " ## Item C\n"
   ]
  },
  {
   "cell_type": "code",
   "execution_count": null,
   "metadata": {},
   "outputs": [],
   "source": []
  },
  {
   "cell_type": "code",
   "execution_count": null,
   "metadata": {},
   "outputs": [],
   "source": []
  },
  {
   "cell_type": "code",
   "execution_count": null,
   "metadata": {},
   "outputs": [],
   "source": []
  }
 ],
 "metadata": {
  "kernelspec": {
   "display_name": "Python 3",
   "language": "python",
   "name": "python3"
  },
  "language_info": {
   "codemirror_mode": {
    "name": "ipython",
    "version": 3
   },
   "file_extension": ".py",
   "mimetype": "text/x-python",
   "name": "python",
   "nbconvert_exporter": "python",
   "pygments_lexer": "ipython3",
   "version": "3.9.4"
  }
 },
 "nbformat": 4,
 "nbformat_minor": 4
}
